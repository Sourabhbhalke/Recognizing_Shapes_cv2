{
 "cells": [
  {
   "cell_type": "markdown",
   "metadata": {},
   "source": [
    "Recognizing Shapes in Objects with OpenCV\n",
    "=========================================\n"
   ]
  },
  {
   "cell_type": "markdown",
   "metadata": {},
   "source": [
    "Import libraries."
   ]
  },
  {
   "cell_type": "code",
   "execution_count": 1,
   "metadata": {},
   "outputs": [],
   "source": [
    "import cv2\n",
    "import numpy as np\n",
    "import os"
   ]
  },
  {
   "cell_type": "code",
   "execution_count": 2,
   "metadata": {},
   "outputs": [],
   "source": [
    "# Print the current working directory\n",
    "#print(os.getcwd())"
   ]
  },
  {
   "cell_type": "markdown",
   "metadata": {},
   "source": [
    "Image filenames."
   ]
  },
  {
   "cell_type": "code",
   "execution_count": 3,
   "metadata": {},
   "outputs": [],
   "source": [
    "files = (\n",
    "    'subway.jpg',\n",
    "    'breakfast.jpg',\n",
    "    'dinner.jpg',\n",
    "    'building.jpg',\n",
    ")\n",
    "f =  files[0] # Assuming images are in the current working directory"
   ]
  },
  {
   "cell_type": "markdown",
   "metadata": {},
   "source": [
    "Define a function for viewing images."
   ]
  },
  {
   "cell_type": "code",
   "execution_count": 4,
   "metadata": {},
   "outputs": [],
   "source": [
    "def view_image(i):\n",
    "    cv2.imshow('view',i)\n",
    "    cv2.waitKey(0)\n",
    "    cv2.destroyAllWindows()"
   ]
  },
  {
   "cell_type": "markdown",
   "metadata": {},
   "source": [
    "Read an image from file."
   ]
  },
  {
   "cell_type": "code",
   "execution_count": 5,
   "metadata": {},
   "outputs": [],
   "source": [
    "i = cv2.imread(f)\n",
    "view_image(i)"
   ]
  },
  {
   "cell_type": "markdown",
   "metadata": {},
   "source": [
    "Inspect image contents"
   ]
  },
  {
   "cell_type": "code",
   "execution_count": 6,
   "metadata": {},
   "outputs": [
    {
     "name": "stdout",
     "output_type": "stream",
     "text": [
      "(640, 427, 3)\n",
      "[22 24  4]\n"
     ]
    }
   ],
   "source": [
    "print(i.shape)\n",
    "print(i[0,0,:])\n",
    "    "
   ]
  },
  {
   "cell_type": "markdown",
   "metadata": {},
   "source": [
    "Gray-scale"
   ]
  },
  {
   "cell_type": "code",
   "execution_count": 7,
   "metadata": {},
   "outputs": [
    {
     "name": "stdout",
     "output_type": "stream",
     "text": [
      "(640, 427)\n",
      "18\n"
     ]
    }
   ],
   "source": [
    "i_gray = cv2.cvtColor(i, cv2.COLOR_BGR2GRAY)\n",
    "print(i_gray.shape)\n",
    "print(i_gray[0,0])\n",
    "view_image(i_gray)"
   ]
  },
  {
   "cell_type": "markdown",
   "metadata": {},
   "source": [
    "X gradient"
   ]
  },
  {
   "cell_type": "code",
   "execution_count": 8,
   "metadata": {},
   "outputs": [],
   "source": [
    "sobelx = cv2.Sobel(i_gray,cv2.CV_64F, 1 ,0)\n",
    "abs_sobelx = np.absolute(sobelx)\n",
    "view_image(abs_sobelx / np.max(abs_sobelx))"
   ]
  },
  {
   "cell_type": "markdown",
   "metadata": {},
   "source": [
    "Y gradient"
   ]
  },
  {
   "cell_type": "code",
   "execution_count": 9,
   "metadata": {},
   "outputs": [],
   "source": [
    "sobely = cv2.Sobel(i_gray,cv2.CV_64F, 0 ,1)\n",
    "abs_sobely = np.absolute(sobely)\n",
    "view_image(abs_sobely / np.max(abs_sobely))"
   ]
  },
  {
   "cell_type": "markdown",
   "metadata": {},
   "source": [
    "Magnitude of gradient vector"
   ]
  },
  {
   "cell_type": "code",
   "execution_count": 10,
   "metadata": {},
   "outputs": [],
   "source": [
    "magnitude = np.sqrt(sobelx**2 + sobely**2)\n",
    "view_image(magnitude/np.max(magnitude))"
   ]
  },
  {
   "cell_type": "markdown",
   "metadata": {},
   "source": [
    "Canny edge detection"
   ]
  },
  {
   "cell_type": "code",
   "execution_count": 11,
   "metadata": {},
   "outputs": [],
   "source": [
    "edges = cv2.Canny(i_gray,200,250)\n",
    "view_image(edges)"
   ]
  },
  {
   "cell_type": "markdown",
   "metadata": {},
   "source": [
    "Hough transform for lines"
   ]
  },
  {
   "cell_type": "code",
   "execution_count": 12,
   "metadata": {},
   "outputs": [],
   "source": [
    "lines = cv2.HoughLinesP(\n",
    "    edges,\n",
    "    rho = 1, \n",
    "    theta = 1. * np.pi / 180.0,\n",
    "    threshold = 20,\n",
    "    minLineLength = 25,\n",
    "    maxLineGap = 5\n",
    ")\n",
    "\n",
    "i_lines = i.copy()\n",
    "\n",
    "if lines is not None:\n",
    "    for l in lines:\n",
    "        x1, y1, x2, y2 = l[0]\n",
    "        cv2.line(i_lines, (x1, y1), (x2, y2), (0, 0, 255), thickness=3)\n",
    "    view_image(i_lines)\n",
    "else:\n",
    "    print(\"No lines detected.\")\n"
   ]
  },
  {
   "cell_type": "markdown",
   "metadata": {},
   "source": [
    "Hough transform for circles"
   ]
  },
  {
   "cell_type": "code",
   "execution_count": 13,
   "metadata": {
    "scrolled": true
   },
   "outputs": [],
   "source": [
    "circles = cv2.HoughCircles(\n",
    "    i_gray,\n",
    "    method = cv2.HOUGH_GRADIENT,\n",
    "    dp = 2,\n",
    "    minDist = 35,\n",
    "    param1 = 150,\n",
    "    param2 = 40,\n",
    "    minRadius = 15,\n",
    "    maxRadius = 25\n",
    ")\n",
    "\n",
    "i_circles = i.copy()\n",
    "\n",
    "if circles is not None:\n",
    "    # Convert circles array to integer type\n",
    "    circles = np.round(circles[0, :]).astype(\"int\")\n",
    "    \n",
    "    for (x, y, r) in circles:\n",
    "        cv2.circle(\n",
    "            i_circles,\n",
    "            (x, y),       # Center of the circle\n",
    "            r,            # Radius of the circle\n",
    "            (0, 0, 255),  # Color (BGR)\n",
    "            thickness=3   # Thickness of the circle outline\n",
    "        )\n",
    "    view_image(i_circles)\n",
    "else:\n",
    "    print(\"No circles detected.\")"
   ]
  },
  {
   "cell_type": "markdown",
   "metadata": {},
   "source": [
    "Blur the image for optimizing circle detection"
   ]
  },
  {
   "cell_type": "code",
   "execution_count": 14,
   "metadata": {},
   "outputs": [],
   "source": [
    "i_blurred = cv2.GaussianBlur(\n",
    "    i_gray,\n",
    "    ksize =(21,21),\n",
    "    sigmaX=0,\n",
    ")\n",
    "view_image(i_blurred)\n"
   ]
  },
  {
   "cell_type": "markdown",
   "metadata": {},
   "source": [
    "Circle detection on blurred image"
   ]
  },
  {
   "cell_type": "code",
   "execution_count": 15,
   "metadata": {},
   "outputs": [],
   "source": [
    "# Detect circles on the blurred image\n",
    "circles = cv2.HoughCircles(\n",
    "    i_blurred,\n",
    "    method = cv2.HOUGH_GRADIENT,\n",
    "    dp = 2,\n",
    "    minDist = 35,\n",
    "    param1 = 150,\n",
    "    param2 = 40,\n",
    "    minRadius = 15,\n",
    "    maxRadius = 25\n",
    ")\n",
    "\n",
    "i_circles = i.copy()\n",
    "\n",
    "if circles is not None:\n",
    "    circles = np.round(circles[0, :]).astype(\"int\")\n",
    "    \n",
    "    for (x, y, r) in circles:\n",
    "        cv2.circle(\n",
    "            i_circles,\n",
    "            (x, y),\n",
    "            r,\n",
    "            (0, 0, 255),\n",
    "            thickness=3\n",
    "        )\n",
    "    view_image(i_circles)\n",
    "else:\n",
    "    print(\"No circles detected.\")"
   ]
  },
  {
   "cell_type": "code",
   "execution_count": null,
   "metadata": {},
   "outputs": [],
   "source": []
  }
 ],
 "metadata": {
  "kernelspec": {
   "display_name": "Python 3 (ipykernel)",
   "language": "python",
   "name": "python3"
  },
  "language_info": {
   "codemirror_mode": {
    "name": "ipython",
    "version": 3
   },
   "file_extension": ".py",
   "mimetype": "text/x-python",
   "name": "python",
   "nbconvert_exporter": "python",
   "pygments_lexer": "ipython3",
   "version": "3.9.12"
  }
 },
 "nbformat": 4,
 "nbformat_minor": 4
}
